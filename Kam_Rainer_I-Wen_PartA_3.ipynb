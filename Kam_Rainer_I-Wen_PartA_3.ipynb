{
 "cells": [
  {
   "cell_type": "markdown",
   "id": "c5cb62ac-8e88-43e6-bce9-da20fabf38ff",
   "metadata": {
    "deletable": false,
    "editable": false,
    "id": "c5cb62ac-8e88-43e6-bce9-da20fabf38ff",
    "nbgrader": {
     "cell_type": "markdown",
     "checksum": "7e726e0bc51bda6101498fa65e298d55",
     "grade": false,
     "grade_id": "cell-a5df181492bc4d5b",
     "locked": true,
     "schema_version": 3,
     "solution": false,
     "task": false
    }
   },
   "source": [
    "# Question A3"
   ]
  },
  {
   "cell_type": "markdown",
   "id": "5c8f824c",
   "metadata": {
    "deletable": false,
    "editable": false,
    "id": "5c8f824c",
    "nbgrader": {
     "cell_type": "markdown",
     "checksum": "8de5fc7baf0dbbe0ae44ff5e2f33d3e2",
     "grade": false,
     "grade_id": "cell-742f6ec36e67f66e",
     "locked": true,
     "schema_version": 3,
     "solution": false,
     "task": false
    }
   },
   "source": [
    "Find the optimal number of hidden neurons for first hidden layer of the 4-layer network (3 hidden layers, output layer) designed in Question 1 and 2"
   ]
  },
  {
   "cell_type": "markdown",
   "id": "fb9411ad-2324-400e-852e-ff5c0ca716f0",
   "metadata": {
    "deletable": false,
    "editable": false,
    "id": "fb9411ad-2324-400e-852e-ff5c0ca716f0",
    "nbgrader": {
     "cell_type": "markdown",
     "checksum": "c699e75b7edb52e94f6605279070c695",
     "grade": false,
     "grade_id": "cell-e96803fd0366edd9",
     "locked": true,
     "schema_version": 3,
     "solution": false,
     "task": false
    },
    "tags": []
   },
   "source": [
    "#### Plot the mean cross-validation accuracies on the final epoch for different numbers of hidden-layer neurons using a scatter plot. Limit the search space of the number of neurons to {64, 128, 256}. Continue using 5-fold cross validation on training dataset. Select the optimal number of neurons for the hidden layer. State the rationale for your selection.\n",
    "\n",
    "This might take a while to run, approximately 20 - 30 min, so plan your time carefully."
   ]
  },
  {
   "cell_type": "markdown",
   "id": "981c85ca-9a14-4d0a-b44d-814f02c0f8e1",
   "metadata": {
    "deletable": false,
    "editable": false,
    "id": "981c85ca-9a14-4d0a-b44d-814f02c0f8e1",
    "nbgrader": {
     "cell_type": "markdown",
     "checksum": "227f476ef461a471ef38af7d3f6715f8",
     "grade": false,
     "grade_id": "cell-808458412f82c806",
     "locked": true,
     "schema_version": 3,
     "solution": false,
     "task": false
    }
   },
   "source": [
    "1. Firstly, we import relevant libraries."
   ]
  },
  {
   "cell_type": "code",
   "execution_count": 1,
   "id": "b0edc610-21e6-4cc7-9603-59318b961990",
   "metadata": {
    "deletable": false,
    "editable": false,
    "id": "b0edc610-21e6-4cc7-9603-59318b961990",
    "nbgrader": {
     "cell_type": "code",
     "checksum": "04b3385379104c8466a67ea59116fe58",
     "grade": false,
     "grade_id": "cell-03d073049be6df79",
     "locked": true,
     "schema_version": 3,
     "solution": false,
     "task": false
    },
    "tags": []
   },
   "outputs": [],
   "source": [
    "import tqdm\n",
    "import time\n",
    "import random\n",
    "import numpy as np\n",
    "import pandas as pd\n",
    "import matplotlib.pyplot as plt\n",
    "\n",
    "import torch\n",
    "from torch import nn\n",
    "from torch.utils.data import Dataset\n",
    "from torch.utils.data import DataLoader\n",
    "\n",
    "from scipy.io import wavfile as wav\n",
    "\n",
    "from sklearn import preprocessing\n",
    "from sklearn.model_selection import KFold\n",
    "from sklearn.model_selection import train_test_split\n",
    "from sklearn.metrics import f1_score, precision_score, recall_score, confusion_matrix\n",
    "from common_utils import set_seed\n",
    "\n",
    "# setting seed\n",
    "set_seed()"
   ]
  },
  {
   "cell_type": "markdown",
   "id": "e8e12861-4713-4914-9f4b-8a7381708243",
   "metadata": {
    "deletable": false,
    "editable": false,
    "id": "e8e12861-4713-4914-9f4b-8a7381708243",
    "nbgrader": {
     "cell_type": "markdown",
     "checksum": "1203c0efa2d363ccc72779a7511ed5b5",
     "grade": false,
     "grade_id": "cell-647b74152d4edf45",
     "locked": true,
     "schema_version": 3,
     "solution": false,
     "task": false
    }
   },
   "source": [
    "2. To reduce repeated code, place your\n",
    "\n",
    "- network (MLP defined in QA1)\n",
    "- torch datasets (CustomDataset defined in QA1)\n",
    "- loss function (loss_fn defined in QA1)\n",
    "\n",
    "in a separate file called **common_utils.py**\n",
    "\n",
    "Import them into this file. You will not be repenalised for any error in QA1 here as the code in QA1 will not be remarked.\n",
    "\n",
    "The following code cell will not be marked."
   ]
  },
  {
   "cell_type": "code",
   "execution_count": 2,
   "id": "37a1a982-de85-46de-b890-3b81f79f5887",
   "metadata": {
    "deletable": false,
    "id": "37a1a982-de85-46de-b890-3b81f79f5887",
    "nbgrader": {
     "cell_type": "code",
     "checksum": "52ed938922eb6062a33a7d047d8fc605",
     "grade": false,
     "grade_id": "import",
     "locked": false,
     "schema_version": 3,
     "solution": true,
     "task": false
    },
    "tags": []
   },
   "outputs": [],
   "source": [
    "# YOUR CODE HERE\n",
    "from common_utils import (\n",
    "    MLP,\n",
    "    CustomDataset,\n",
    "    preprocess_dataset,\n",
    "    intialise_loaders,\n",
    "    split_dataset,\n",
    "    preprocess_dataset,\n",
    ")\n",
    "loss_fn = nn.BCELoss()"
   ]
  },
  {
   "cell_type": "code",
   "execution_count": null,
   "id": "88f0e215-033b-4720-89f8-64f96574ebe2",
   "metadata": {
    "deletable": false,
    "editable": false,
    "id": "88f0e215-033b-4720-89f8-64f96574ebe2",
    "nbgrader": {
     "cell_type": "code",
     "checksum": "ae6b33318200b4bc38d431576963edb1",
     "grade": true,
     "grade_id": "correct_import",
     "locked": true,
     "points": 0,
     "schema_version": 3,
     "solution": false,
     "task": false
    },
    "tags": []
   },
   "outputs": [],
   "source": []
  },
  {
   "cell_type": "markdown",
   "id": "558aa470-6d7e-454c-9cda-9ad881d58c53",
   "metadata": {
    "deletable": false,
    "editable": false,
    "id": "558aa470-6d7e-454c-9cda-9ad881d58c53",
    "nbgrader": {
     "cell_type": "markdown",
     "checksum": "79004bd568c9f48abd1cf359cd050ab5",
     "grade": false,
     "grade_id": "cell-10b7165b0a25758f",
     "locked": true,
     "schema_version": 3,
     "solution": false,
     "task": false
    }
   },
   "source": [
    "3. Perform hyperparameter tuning for the different neurons with 5-fold cross validation."
   ]
  },
  {
   "cell_type": "code",
   "execution_count": 3,
   "id": "8c77bd18-c546-473e-8c2f-643b4281d9ba",
   "metadata": {
    "deletable": false,
    "id": "8c77bd18-c546-473e-8c2f-643b4281d9ba",
    "nbgrader": {
     "cell_type": "code",
     "checksum": "c610a779f6858f6c77f3fc6beb198dcd",
     "grade": true,
     "grade_id": "train",
     "locked": false,
     "points": 2,
     "schema_version": 3,
     "solution": true,
     "task": false
    },
    "tags": []
   },
   "outputs": [],
   "source": [
    "def train_loop(dataloader, model, loss_fn, optimizer):\n",
    "    size = len(dataloader)\n",
    "    train_loss, train_acc = 0, 0\n",
    "    for X, y in dataloader:\n",
    "        # Compute prediction and loss\n",
    "        pred = model(X)\n",
    "        loss = loss_fn(pred, y.reshape(-1, 1))\n",
    "        optimizer.zero_grad() # initialize gradient calculations\n",
    "        loss.backward() # compute gradients\n",
    "        optimizer.step() # execute one step of GD\n",
    "\n",
    "        train_loss += loss.item()\n",
    "        train_acc += (torch.sum(torch.eq(pred > 0.5, y.reshape(-1, 1))).item() / len(pred))\n",
    "\n",
    "    train_loss /= size\n",
    "    train_acc /= size\n",
    "    return train_loss, train_acc\n",
    "\n",
    "def test_loop(dataloader, model, loss_fn):\n",
    "    size = len(dataloader)\n",
    "    test_loss, test_acc = 0, 0\n",
    "    model.eval()\n",
    "    with torch.no_grad():\n",
    "        for X, y in dataloader:\n",
    "            pred = model(X)\n",
    "            test_loss += loss_fn(pred, y.reshape(-1, 1)).item()\n",
    "            test_acc += (torch.sum(torch.eq(pred > 0.5, y.reshape(-1, 1))).item() / len(pred))\n",
    "    model.train()\n",
    "    test_loss /= size\n",
    "    test_acc /= size\n",
    "    return test_loss, test_acc\n",
    "\n",
    "def evaluate_fold(train_dataloader, test_dataloader, num_epochs, model, loss_fn, optimizer):\n",
    "    train_loss_, train_acc_, test_loss_, test_acc_ = [], [], [], []\n",
    "\n",
    "    for epoch in tqdm.tqdm(range(num_epochs)):\n",
    "\n",
    "        start = time.time()\n",
    "\n",
    "        train_loss, train_acc = train_loop(train_dataloader, model, loss_fn, optimizer)\n",
    "\n",
    "        end = time.time()\n",
    "\n",
    "        test_loss, test_acc = test_loop(test_dataloader, model, loss_fn)\n",
    "        train_loss_.append(train_loss), train_acc_.append(train_acc)\n",
    "        test_loss_.append(test_loss), test_acc_.append(test_acc)\n",
    "\n",
    "    last_epoch_time = end-start\n",
    "\n",
    "    return train_loss_, train_acc_, test_loss_, test_acc_, last_epoch_time\n",
    "# def train(model, X_train_scaled, y_train2, X_val_scaled, y_val2, batch_size):\n",
    "\n",
    "#     # YOUR CODE HERE\n",
    "\n",
    "#     return train_accuracies, train_losses, test_accuracies, test_losses, times"
   ]
  },
  {
   "cell_type": "code",
   "execution_count": 4,
   "id": "d13d1ff1-7242-4c3f-bcf2-c92fe0c723db",
   "metadata": {
    "deletable": false,
    "id": "d13d1ff1-7242-4c3f-bcf2-c92fe0c723db",
    "nbgrader": {
     "cell_type": "code",
     "checksum": "ec4e70e2dfdc84af8c83bc858117af1f",
     "grade": true,
     "grade_id": "hyperparameter_tuning",
     "locked": false,
     "points": 2,
     "schema_version": 3,
     "solution": true,
     "task": false
    },
    "tags": []
   },
   "outputs": [
    {
     "name": "stderr",
     "output_type": "stream",
     "text": [
      "100%|██████████| 20/20 [00:06<00:00,  3.18it/s]\n",
      "100%|██████████| 20/20 [00:06<00:00,  2.98it/s]\n",
      "100%|██████████| 20/20 [00:06<00:00,  3.16it/s]\n",
      "100%|██████████| 20/20 [00:06<00:00,  2.98it/s]\n",
      "100%|██████████| 20/20 [00:07<00:00,  2.66it/s]\n",
      "100%|██████████| 20/20 [00:07<00:00,  2.58it/s]\n",
      "100%|██████████| 20/20 [00:08<00:00,  2.41it/s]\n",
      "100%|██████████| 20/20 [00:07<00:00,  2.70it/s]\n",
      "100%|██████████| 20/20 [00:06<00:00,  2.90it/s]\n",
      "100%|██████████| 20/20 [00:06<00:00,  3.14it/s]\n",
      "100%|██████████| 20/20 [00:08<00:00,  2.46it/s]\n",
      "100%|██████████| 20/20 [00:07<00:00,  2.62it/s]\n",
      "100%|██████████| 20/20 [00:07<00:00,  2.61it/s]\n",
      "100%|██████████| 20/20 [00:08<00:00,  2.46it/s]\n",
      "100%|██████████| 20/20 [00:07<00:00,  2.52it/s]\n"
     ]
    }
   ],
   "source": [
    "from collections import defaultdict\n",
    "\n",
    "def find_optimal_hyperparameter(X_train, y_train, parameters, mode, batch_size):\n",
    "\n",
    "    # YOUR CODE HERE\n",
    "    cross_validation_accuracies = {}\n",
    "    cross_validation_val_accuracies, cross_validation_train_accuracies, cross_validation_times = defaultdict(list), defaultdict(list), defaultdict(list)\n",
    "\n",
    "    ## initialize model hyperparams here\n",
    "    num_epochs = 20\n",
    "    lr = 0.001\n",
    "    no_features = 77\n",
    "    no_hidden = 3\n",
    "    no_labels = 1\n",
    "\n",
    "    for hidden_neurons in parameters:\n",
    "\n",
    "        ## split datasets into k folds here for optimal batch size\n",
    "        kf = KFold(n_splits=5, shuffle=True)\n",
    "        \n",
    "        for i, (train_index, test_index) in enumerate(kf.split(X_train)):\n",
    "\n",
    "            ## initialize new model for each cv split to avoid data leakage and fair evaluation\n",
    "            model = MLP(no_features, no_hidden, no_labels, no_hidden_neurons = hidden_neurons)\n",
    "            optimizer = torch.optim.Adam(model.parameters(), lr = lr)\n",
    "            loss_fn = nn.BCELoss()\n",
    "\n",
    "            eval_params = {\n",
    "                'num_epochs': num_epochs,\n",
    "                'model': model,\n",
    "                'loss_fn': loss_fn,\n",
    "                'optimizer': optimizer,\n",
    "            }\n",
    "\n",
    "            X_train_subset = X_train[train_index]\n",
    "            y_train_subset = y_train[train_index]\n",
    "            X_val_subset = X_train[test_index]\n",
    "            y_val_subset = y_train[test_index]\n",
    "\n",
    "            X_train_scaled, X_val_scaled = preprocess_dataset(X_train_subset, X_val_subset)\n",
    "\n",
    "            ## initialize dataloaders and train model using train() function\n",
    "            train_dataloader, val_dataloader = intialise_loaders(X_train_scaled, y_train_subset, X_val_scaled, y_val_subset, batch_size = batch_size)\n",
    "            train_loss_, train_acc_, val_loss_, val_acc_, last_epoch_time = evaluate_fold(train_dataloader, val_dataloader, **eval_params)\n",
    "\n",
    "            ## collate and return result\n",
    "            cross_validation_train_accuracies[hidden_neurons].append(train_acc_)\n",
    "            cross_validation_val_accuracies[hidden_neurons].append(val_acc_)\n",
    "            cross_validation_times[hidden_neurons].append(last_epoch_time)\n",
    "\n",
    "            cross_validation_accuracies['train'] = cross_validation_train_accuracies\n",
    "            cross_validation_accuracies['val'] = cross_validation_val_accuracies\n",
    "\n",
    "    \n",
    "    return cross_validation_accuracies, cross_validation_times\n",
    "\n",
    "'''\n",
    "optimal_bs = 0. Fill your optimal batch size in the following code.\n",
    "'''\n",
    "# YOUR CODE HERE\n",
    "num_neurons = [(64, 128, 128),\n",
    "               (128, 128, 128),\n",
    "               (256, 128, 128)]\n",
    "df = pd.read_csv('simplified.csv')\n",
    "df['label'] = df['filename'].str.split('_').str[-2]\n",
    "X_train, y_train, X_test, y_test = split_dataset(df, ['label','filename'], 0.3, 0)\n",
    "cross_validation_accuracies, cross_validation_times = find_optimal_hyperparameter(X_train.to_numpy(), y_train, num_neurons, 'num_neurons', 128)"
   ]
  },
  {
   "cell_type": "code",
   "execution_count": null,
   "id": "13b4cce9-3a65-47fa-9b34-44b75de57dff",
   "metadata": {
    "deletable": false,
    "editable": false,
    "id": "13b4cce9-3a65-47fa-9b34-44b75de57dff",
    "nbgrader": {
     "cell_type": "code",
     "checksum": "975e552e751c4efb2cec0eac214f85cd",
     "grade": true,
     "grade_id": "correct_hyperparameter_tuning",
     "locked": true,
     "points": 1,
     "schema_version": 3,
     "solution": false,
     "task": false
    },
    "tags": []
   },
   "outputs": [],
   "source": []
  },
  {
   "cell_type": "markdown",
   "id": "b6756ab6-92e0-4a5e-b4b9-aebe009f5480",
   "metadata": {
    "deletable": false,
    "editable": false,
    "id": "b6756ab6-92e0-4a5e-b4b9-aebe009f5480",
    "nbgrader": {
     "cell_type": "markdown",
     "checksum": "0de56ab3a8b732e3ada17c55bc90a3cf",
     "grade": false,
     "grade_id": "cell-d0eceff23b1291e2",
     "locked": true,
     "schema_version": 3,
     "solution": false,
     "task": false
    }
   },
   "source": [
    "4. Plot the cross-validation accuracies against the number of epochs for different numbers of hidden-layer neurons. Limit the search space of the number of neurons to {64, 128, 256}."
   ]
  },
  {
   "cell_type": "code",
   "execution_count": 5,
   "id": "8fa3afdf-eed6-47b9-9acc-bc2304c46ec3",
   "metadata": {
    "deletable": false,
    "id": "8fa3afdf-eed6-47b9-9acc-bc2304c46ec3",
    "nbgrader": {
     "cell_type": "code",
     "checksum": "25582e96a2b85a5ce6e0cf48a58064bd",
     "grade": true,
     "grade_id": "cell-plot",
     "locked": false,
     "points": 2,
     "schema_version": 3,
     "solution": true,
     "task": false
    },
    "tags": []
   },
   "outputs": [
    {
     "data": {
      "text/plain": [
       "Text(0.5, 1.0, 'Scatter plot of Train and Val accuracy')"
      ]
     },
     "execution_count": 5,
     "metadata": {},
     "output_type": "execute_result"
    },
    {
     "data": {
      "image/png": "[encoded data removed]",
      "text/plain": [
       "<Figure size 640x480 with 1 Axes>"
      ]
     },
     "metadata": {},
     "output_type": "display_data"
    }
   ],
   "source": [
    "# YOUR CODE HERE\n",
    "\n",
    "def process_accuracies(accuracy_dict):\n",
    "    cv_accuracies_df = pd.DataFrame(accuracy_dict).transpose()\n",
    "    cv_accuracies_df.index = [i[0] for i in cv_accuracies_df.index]\n",
    "    cv_accuracies_df.index = cv_accuracies_df.index.set_names([\"num_neurons\"])\n",
    "    cv_accuracies_df.columns = [f\"Fold_{i}\" for i in cv_accuracies_df.columns]\n",
    "    cv_accuracies_df = cv_accuracies_df.explode(list(cv_accuracies_df.columns))\n",
    "    cv_accuracies_df['mean_acc'] = cv_accuracies_df.mean(axis=1)\n",
    "    return cv_accuracies_df\n",
    "\n",
    "mean_train_acc = process_accuracies(cross_validation_accuracies['train'])\n",
    "mean_val_acc = process_accuracies(cross_validation_accuracies['val'])\n",
    "mean_train_acc['epoch'] = list(range(1,21))*3\n",
    "mean_val_acc['epoch'] = list(range(1,21))*3\n",
    "\n",
    "final_epoch_train_acc = mean_train_acc.loc[mean_train_acc['epoch']==20][['mean_acc']]\n",
    "final_epoch_val_acc = mean_val_acc.loc[mean_val_acc['epoch']==20][['mean_acc']]\n",
    "\n",
    "plt.scatter(final_epoch_train_acc.index, final_epoch_train_acc.values, label = \"Train Accuracy\")\n",
    "plt.scatter(final_epoch_val_acc.index, final_epoch_val_acc.values, label = \"Val Accuracy\")\n",
    "plt.ylabel(\"Mean Accuracy\")\n",
    "plt.xlabel(\"First Layer No. Neurons\")\n",
    "plt.legend()\n",
    "plt.title(\"Scatter plot of Train and Val accuracy\")"
   ]
  },
  {
   "cell_type": "markdown",
   "id": "baab6e4d-4e8b-4358-a68d-682f60db4a06",
   "metadata": {
    "deletable": false,
    "editable": false,
    "id": "baab6e4d-4e8b-4358-a68d-682f60db4a06",
    "nbgrader": {
     "cell_type": "markdown",
     "checksum": "2024917155ea0cc8755c69415b4956cf",
     "grade": false,
     "grade_id": "part-1-3",
     "locked": true,
     "schema_version": 3,
     "solution": false,
     "task": false
    }
   },
   "source": [
    "5. Select the optimal number of neurons for the hidden layer. State the rationale for your selection."
   ]
  },
  {
   "cell_type": "code",
   "execution_count": 7,
   "id": "3e45a22d-9f20-441b-986b-dca35083abc3",
   "metadata": {
    "deletable": false,
    "id": "3e45a22d-9f20-441b-986b-dca35083abc3",
    "nbgrader": {
     "cell_type": "code",
     "checksum": "a8f1233c3ecacc38527a60e87185938b",
     "grade": false,
     "grade_id": "reason",
     "locked": false,
     "schema_version": 3,
     "solution": true,
     "task": false
    }
   },
   "outputs": [],
   "source": [
    "optimal_neurons = 256\n",
    "reason = \"\"\"\n",
    "From the plots, we can see that as the number of neurons used in the first layer increases, \n",
    "both the train and validation accuracy increase. This indicates that overfitting has not occurred yet as the model\n",
    "is still able to generalise well to the validation set using information from the train set.\n",
    "However, we can expect that if we keep increasing the neurons, we may see a divergence between the validation and train accuracy.\n",
    "That is, the train accuracy may continue increasing while the validation accuracy starts dropping.\n",
    "THis happens due to overfitting where the model learns perfectly the nuances of the training data and as a result,\n",
    "is unable to generalise well to validation data\n",
    "\"\"\"\n",
    "# YOUR CODE HERE"
   ]
  },
  {
   "cell_type": "code",
   "execution_count": null,
   "id": "e9a76852-5fd9-48e6-b6ee-d0b9277340fa",
   "metadata": {
    "deletable": false,
    "editable": false,
    "id": "e9a76852-5fd9-48e6-b6ee-d0b9277340fa",
    "nbgrader": {
     "cell_type": "code",
     "checksum": "d8632aa5f8381d571f8992f3196e7aab",
     "grade": true,
     "grade_id": "reason1",
     "locked": true,
     "points": 1,
     "schema_version": 3,
     "solution": false,
     "task": false
    }
   },
   "outputs": [],
   "source": []
  },
  {
   "cell_type": "markdown",
   "id": "ebf2dc5e-91d5-49dc-a05f-b9318f3371a7",
   "metadata": {
    "deletable": false,
    "editable": false,
    "id": "ebf2dc5e-91d5-49dc-a05f-b9318f3371a7",
    "nbgrader": {
     "cell_type": "markdown",
     "checksum": "4c609ceb4ecc2dac0684b1da17f44daa",
     "grade": false,
     "grade_id": "cell-302503e166f647c9",
     "locked": true,
     "schema_version": 3,
     "solution": false,
     "task": false
    }
   },
   "source": [
    "6. Plot the train and test accuracies against training epochs with the optimal number of neurons using a line plot."
   ]
  },
  {
   "cell_type": "code",
   "execution_count": 9,
   "id": "081aa567-cd92-4749-93fd-fc6608a1f6ae",
   "metadata": {
    "deletable": false,
    "id": "081aa567-cd92-4749-93fd-fc6608a1f6ae",
    "nbgrader": {
     "cell_type": "code",
     "checksum": "2776dd57325ada98de4534313e894572",
     "grade": true,
     "grade_id": "figure",
     "locked": false,
     "points": 2,
     "schema_version": 3,
     "solution": true,
     "task": false
    },
    "tags": []
   },
   "outputs": [
    {
     "data": {
      "text/plain": [
       "Text(0.5, 1.0, 'Line plot of Train and Val accuracy for 256 neurons')"
      ]
     },
     "execution_count": 9,
     "metadata": {},
     "output_type": "execute_result"
    },
    {
     "data": {
      "image/png": "[encoded data removed]",
      "text/plain": [
       "<Figure size 640x480 with 1 Axes>"
      ]
     },
     "metadata": {},
     "output_type": "display_data"
    }
   ],
   "source": [
    "# YOUR CODE HERE\n",
    "optimal_neuron_train_acc = mean_train_acc.loc[mean_train_acc.index==optimal_neurons]\n",
    "optimal_neuron_val_acc = mean_val_acc.loc[mean_val_acc.index==optimal_neurons]\n",
    "f = plt.figure()\n",
    "plt.plot(optimal_neuron_train_acc['epoch'], optimal_neuron_train_acc['mean_acc'], label=\"Train accuracy\")\n",
    "plt.plot(optimal_neuron_val_acc['epoch'], optimal_neuron_val_acc['mean_acc'], label = \"Val accuracy\")\n",
    "plt.legend()\n",
    "plt.xlabel(\"Num epochs\")\n",
    "plt.ylabel(\"Accuracy\")\n",
    "plt.title(f\"Line plot of Train and Val accuracy for {optimal_neurons} neurons\")"
   ]
  },
  {
   "cell_type": "code",
   "execution_count": null,
   "id": "039241ae",
   "metadata": {},
   "outputs": [],
   "source": []
  }
 ],
 "metadata": {
  "colab": {
   "provenance": []
  },
  "kernelspec": {
   "display_name": "Python 3 (ipykernel)",
   "language": "python",
   "name": "python3"
  },
  "language_info": {
   "codemirror_mode": {
    "name": "ipython",
    "version": 3
   },
   "file_extension": ".py",
   "mimetype": "text/x-python",
   "name": "python",
   "nbconvert_exporter": "python",
   "pygments_lexer": "ipython3",
   "version": "3.11.5"
  }
 },
 "nbformat": 4,
 "nbformat_minor": 5
}
