{
 "cells": [
  {
   "cell_type": "markdown",
   "id": "c5cb62ac-8e88-43e6-bce9-da20fabf38ff",
   "metadata": {
    "deletable": false,
    "editable": false,
    "id": "c5cb62ac-8e88-43e6-bce9-da20fabf38ff",
    "nbgrader": {
     "cell_type": "markdown",
     "checksum": "3c7e82aadc4d77a8b23f7f880449f9e3",
     "grade": false,
     "grade_id": "a2",
     "locked": true,
     "schema_version": 3,
     "solution": false,
     "task": false
    },
    "tags": []
   },
   "source": [
    "# Question A2 (10 marks)"
   ]
  },
  {
   "cell_type": "markdown",
   "id": "26b4ac2a-d56e-4151-8e0a-4a833cbc643e",
   "metadata": {
    "deletable": false,
    "editable": false,
    "id": "26b4ac2a-d56e-4151-8e0a-4a833cbc643e",
    "nbgrader": {
     "cell_type": "markdown",
     "checksum": "eb28aa752ce5540f5b18d10694b52ea9",
     "grade": false,
     "grade_id": "a22",
     "locked": true,
     "schema_version": 3,
     "solution": false,
     "task": false
    },
    "tags": []
   },
   "source": [
    "### In this question, we will determine the optimal batch size for mini-batch gradient descent. Find the optimal batch size for mini-batch gradient descent by training the neural network and evaluating the performances for different batch sizes. Note: Use 5-fold cross-validation on training partition to perform hyperparameter selection. You will have to reconsider the scaling of the dataset during the 5-fold cross validation.\n",
    "\n",
    "* note: some cells are non-editable and cannot be filled, but leave them untouched. Fill up only cells which are provided."
   ]
  },
  {
   "cell_type": "markdown",
   "id": "fb9411ad-2324-400e-852e-ff5c0ca716f0",
   "metadata": {
    "deletable": false,
    "editable": false,
    "id": "fb9411ad-2324-400e-852e-ff5c0ca716f0",
    "nbgrader": {
     "cell_type": "markdown",
     "checksum": "aceec82011f43733c0551ca196f1b16c",
     "grade": false,
     "grade_id": "a2_1",
     "locked": true,
     "schema_version": 3,
     "solution": false,
     "task": false
    },
    "tags": []
   },
   "source": [
    "#### Plot mean cross-validation accuracies on the final epoch for different batch sizes as a scatter plot. Limit search space to batch sizes {128, 256, 512, 1024}. Next, create a table of time taken to train the network on the last epoch against different batch sizes. Finally, select the optimal batch size and state a reason for your selection.\n",
    "\n",
    "This might take a while to run, so plan your time carefully."
   ]
  },
  {
   "cell_type": "code",
   "execution_count": 26,
   "id": "b0edc610-21e6-4cc7-9603-59318b961990",
   "metadata": {
    "deletable": false,
    "editable": false,
    "id": "b0edc610-21e6-4cc7-9603-59318b961990",
    "nbgrader": {
     "cell_type": "code",
     "checksum": "909acb3c7ff3883eb5381eb586615d3b",
     "grade": false,
     "grade_id": "libraries",
     "locked": true,
     "schema_version": 3,
     "solution": false,
     "task": false
    },
    "tags": []
   },
   "outputs": [],
   "source": [
    "import tqdm\n",
    "import time\n",
    "import random\n",
    "import numpy as np\n",
    "import pandas as pd\n",
    "import matplotlib.pyplot as plt\n",
    "\n",
    "import torch\n",
    "from torch import nn\n",
    "from torch.utils.data import Dataset\n",
    "from torch.utils.data import DataLoader\n",
    "\n",
    "from scipy.io import wavfile as wav\n",
    "\n",
    "from sklearn import preprocessing\n",
    "from sklearn.model_selection import KFold\n",
    "from sklearn.model_selection import train_test_split\n",
    "from sklearn.metrics import f1_score, precision_score, recall_score, confusion_matrix\n",
    "\n",
    "from common_utils import set_seed\n",
    "\n",
    "# setting seed\n",
    "set_seed()"
   ]
  },
  {
   "cell_type": "markdown",
   "id": "e8e12861-4713-4914-9f4b-8a7381708243",
   "metadata": {
    "deletable": false,
    "editable": false,
    "id": "e8e12861-4713-4914-9f4b-8a7381708243",
    "nbgrader": {
     "cell_type": "markdown",
     "checksum": "ed97d9f30da032a5e349047c614efec1",
     "grade": false,
     "grade_id": "a2_1_2",
     "locked": true,
     "schema_version": 3,
     "solution": false,
     "task": false
    },
    "tags": []
   },
   "source": [
    "2. To reduce repeated code, place your\n",
    "\n",
    "- network (MLP defined in QA1)\n",
    "- torch datasets (CustomDataset defined in QA1)\n",
    "- loss function (loss_fn defined in QA1)\n",
    "\n",
    "in a separate file called **common_utils.py**\n",
    "\n",
    "Import them into this file. You will not be repenalised for any error in QA1 here as the code in QA1 will not be remarked.\n",
    "\n",
    "The following code cell will not be marked."
   ]
  },
  {
   "cell_type": "code",
   "execution_count": 45,
   "id": "37a1a982-de85-46de-b890-3b81f79f5887",
   "metadata": {
    "deletable": false,
    "id": "37a1a982-de85-46de-b890-3b81f79f5887",
    "nbgrader": {
     "cell_type": "code",
     "checksum": "9db3ca972642b1447dba3ebd5f2db24b",
     "grade": false,
     "grade_id": "import",
     "locked": false,
     "schema_version": 3,
     "solution": true,
     "task": false
    },
    "tags": []
   },
   "outputs": [],
   "source": [
    "# YOUR CODE HERE\n",
    "from common_utils import (\n",
    "    MLP,\n",
    "    CustomDataset,\n",
    "    preprocess_dataset,\n",
    "    intialise_loaders,\n",
    "    split_dataset,\n",
    "    preprocess_dataset,\n",
    ")\n",
    "loss_fn = nn.BCELoss()"
   ]
  },
  {
   "cell_type": "code",
   "execution_count": null,
   "id": "5aa562e7-23c3-4920-ae63-4563bf30e39d",
   "metadata": {
    "deletable": false,
    "editable": false,
    "id": "5aa562e7-23c3-4920-ae63-4563bf30e39d",
    "nbgrader": {
     "cell_type": "code",
     "checksum": "ae6b33318200b4bc38d431576963edb1",
     "grade": true,
     "grade_id": "correct_import",
     "locked": true,
     "points": 0,
     "schema_version": 3,
     "solution": false,
     "task": false
    },
    "tags": []
   },
   "outputs": [],
   "source": []
  },
  {
   "cell_type": "markdown",
   "id": "82ea67d6-1eb4-428d-9407-9d988e927ff6",
   "metadata": {
    "deletable": false,
    "editable": false,
    "id": "82ea67d6-1eb4-428d-9407-9d988e927ff6",
    "nbgrader": {
     "cell_type": "markdown",
     "checksum": "c738d3b4888de90dda8c532036bc5fe5",
     "grade": false,
     "grade_id": "a2_1_3",
     "locked": true,
     "schema_version": 3,
     "solution": false,
     "task": false
    },
    "tags": []
   },
   "source": [
    "3. Define different folds for different batch sizes to get a dictionary of training and validation datasets. Preprocess your datasets accordingly."
   ]
  },
  {
   "cell_type": "code",
   "execution_count": 40,
   "id": "deab683a-2c9e-4e62-823a-e8b4a186bda8",
   "metadata": {
    "deletable": false,
    "id": "deab683a-2c9e-4e62-823a-e8b4a186bda8",
    "nbgrader": {
     "cell_type": "code",
     "checksum": "d02dac62baa528c191eb4f47b2495406",
     "grade": false,
     "grade_id": "dataset",
     "locked": false,
     "schema_version": 3,
     "solution": true,
     "task": false
    },
    "tags": []
   },
   "outputs": [],
   "source": [
    "from collections import defaultdict\n",
    "\n",
    "def generate_cv_folds_for_batch_sizes(parameters, X_train, y_train):\n",
    "    \"\"\"\n",
    "    returns:\n",
    "    X_train_scaled_dict(dict) where X_train_scaled_dict[batch_size] is a list of the preprocessed training matrix for the different folds.\n",
    "    X_val_scaled_dict(dict) where X_val_scaled_dict[batch_size] is a list of the processed validation matrix for the different folds.\n",
    "    y_train_dict(dict) where y_train_dict[batch_size] is a list of labels for the different folds\n",
    "    y_val_dict(dict) where y_val_dict[batch_size] is a list of labels for the different folds\n",
    "    \"\"\"\n",
    "    # YOUR CODE HERE\n",
    "    X_train_scaled_dict, X_val_scaled_dict, y_train_dict, y_val_dict = defaultdict(list), defaultdict(list), defaultdict(list), defaultdict(list)\n",
    "    kf = KFold(n_splits=5)\n",
    "\n",
    "    for batch_size in parameters:\n",
    "        for i, (train_index, test_index) in enumerate(kf.split(X_train)):\n",
    "            X_train_subset = X_train[train_index]\n",
    "            y_train_subset = y_train[train_index]\n",
    "            X_val_subset = X_train[test_index]\n",
    "            y_val_subset = y_train[test_index]\n",
    "\n",
    "            X_train_scaled, X_val_scaled = preprocess_dataset(X_train_subset, X_val_subset)\n",
    "\n",
    "            X_train_scaled_dict[batch_size].append(X_train_scaled)\n",
    "            X_val_scaled_dict[batch_size].append(X_val_scaled)\n",
    "            y_train_dict[batch_size].append(y_train_subset)\n",
    "            y_val_dict[batch_size].append(y_val_subset)\n",
    "\n",
    "    return X_train_scaled_dict, X_val_scaled_dict, y_train_dict, y_val_dict\n",
    "\n",
    "df = pd.read_csv('simplified.csv')\n",
    "df['label'] = df['filename'].str.split('_').str[-2]\n",
    "\n",
    "batch_sizes = [128, 256, 512, 1024]\n",
    "X_train, y_train, X_test, y_test = split_dataset(df, ['label','filename'], 0.3, 0)\n",
    "X_train_scaled_dict, X_val_scaled_dict, y_train_dict, y_val_dict = generate_cv_folds_for_batch_sizes(batch_sizes, X_train.to_numpy(), y_train)\n"
   ]
  },
  {
   "cell_type": "code",
   "execution_count": null,
   "id": "235ca332-9676-42bd-9801-0f5f4157a777",
   "metadata": {
    "deletable": false,
    "editable": false,
    "id": "235ca332-9676-42bd-9801-0f5f4157a777",
    "nbgrader": {
     "cell_type": "code",
     "checksum": "4ae5f281cd84f4d36f81f2ae126cf915",
     "grade": true,
     "grade_id": "correct_dataset",
     "locked": true,
     "points": 1,
     "schema_version": 3,
     "solution": false,
     "task": false
    },
    "tags": []
   },
   "outputs": [],
   "source": []
  },
  {
   "cell_type": "code",
   "execution_count": null,
   "id": "8df744af-f485-4871-9e0a-70fd41d1df4d",
   "metadata": {
    "deletable": false,
    "editable": false,
    "id": "8df744af-f485-4871-9e0a-70fd41d1df4d",
    "nbgrader": {
     "cell_type": "code",
     "checksum": "4dcf6be1ad49306172e6f27243e613f2",
     "grade": true,
     "grade_id": "correct_dataset2",
     "locked": true,
     "points": 1,
     "schema_version": 3,
     "solution": false,
     "task": false
    },
    "tags": []
   },
   "outputs": [],
   "source": []
  },
  {
   "cell_type": "markdown",
   "id": "558aa470-6d7e-454c-9cda-9ad881d58c53",
   "metadata": {
    "deletable": false,
    "editable": false,
    "id": "558aa470-6d7e-454c-9cda-9ad881d58c53",
    "nbgrader": {
     "cell_type": "markdown",
     "checksum": "064d68c9708b5e3f1e2463001b6d78b4",
     "grade": false,
     "grade_id": "a2_1_4",
     "locked": true,
     "schema_version": 3,
     "solution": false,
     "task": false
    },
    "tags": []
   },
   "source": [
    "4. Perform hyperparameter tuning for the different batch sizes with 5-fold cross validation."
   ]
  },
  {
   "cell_type": "code",
   "execution_count": 46,
   "id": "3107ebe9-d121-4510-9782-2a62d32258d0",
   "metadata": {
    "deletable": false,
    "id": "3107ebe9-d121-4510-9782-2a62d32258d0",
    "nbgrader": {
     "cell_type": "code",
     "checksum": "e9665887943f38ae7bed6c1d8351903b",
     "grade": true,
     "grade_id": "hyperparameter_tuning",
     "locked": false,
     "points": 4,
     "schema_version": 3,
     "solution": true,
     "task": false
    },
    "tags": []
   },
   "outputs": [
    {
     "name": "stderr",
     "output_type": "stream",
     "text": [
      "100%|██████████| 20/20 [00:05<00:00,  3.36it/s]\n",
      "100%|██████████| 20/20 [00:04<00:00,  4.07it/s]\n",
      "100%|██████████| 20/20 [00:04<00:00,  4.01it/s]\n",
      "100%|██████████| 20/20 [00:04<00:00,  4.14it/s]\n",
      "100%|██████████| 20/20 [00:04<00:00,  4.01it/s]\n",
      "100%|██████████| 20/20 [00:03<00:00,  5.18it/s]\n",
      "100%|██████████| 20/20 [00:03<00:00,  5.15it/s]\n",
      "100%|██████████| 20/20 [00:04<00:00,  5.00it/s]\n",
      "100%|██████████| 20/20 [00:03<00:00,  5.21it/s]\n",
      "100%|██████████| 20/20 [00:03<00:00,  5.18it/s]\n",
      "100%|██████████| 20/20 [00:03<00:00,  6.13it/s]\n",
      "100%|██████████| 20/20 [00:03<00:00,  6.42it/s]\n",
      "100%|██████████| 20/20 [00:03<00:00,  6.49it/s]\n",
      "100%|██████████| 20/20 [00:03<00:00,  6.55it/s]\n",
      "100%|██████████| 20/20 [00:03<00:00,  6.46it/s]\n",
      "100%|██████████| 20/20 [00:02<00:00,  7.25it/s]\n",
      "100%|██████████| 20/20 [00:02<00:00,  7.39it/s]\n",
      "100%|██████████| 20/20 [00:02<00:00,  7.27it/s]\n",
      "100%|██████████| 20/20 [00:02<00:00,  7.13it/s]\n",
      "100%|██████████| 20/20 [00:02<00:00,  7.47it/s]\n"
     ]
    }
   ],
   "source": [
    "## For consistencies sake, set num_epochs to 20 for all remaining runs\n",
    "\n",
    "# YOUR CODE HERE\n",
    "\n",
    "def train_loop(dataloader, model, loss_fn, optimizer):\n",
    "    size = len(dataloader)\n",
    "    train_loss, train_acc = 0, 0\n",
    "    for X, y in dataloader:\n",
    "        # Compute prediction and loss\n",
    "        pred = model(X)\n",
    "        loss = loss_fn(pred, y.reshape(-1, 1))\n",
    "        optimizer.zero_grad() # initialize gradient calculations\n",
    "        loss.backward() # compute gradients\n",
    "        optimizer.step() # execute one step of GD\n",
    "\n",
    "        train_loss += loss.item()\n",
    "        train_acc += (torch.sum(torch.eq(pred > 0.5, y.reshape(-1, 1))).item() / len(pred))\n",
    "\n",
    "    train_loss /= size\n",
    "    train_acc /= size\n",
    "    return train_loss, train_acc\n",
    "\n",
    "def test_loop(dataloader, model, loss_fn):\n",
    "    size = len(dataloader)\n",
    "    test_loss, test_acc = 0, 0\n",
    "    model.eval()\n",
    "    with torch.no_grad():\n",
    "        for X, y in dataloader:\n",
    "            pred = model(X)\n",
    "            test_loss += loss_fn(pred, y.reshape(-1, 1)).item()\n",
    "            test_acc += (torch.sum(torch.eq(pred > 0.5, y.reshape(-1, 1))).item() / len(pred))\n",
    "    model.train()\n",
    "    test_loss /= size\n",
    "    test_acc /= size\n",
    "    return test_loss, test_acc\n",
    "\n",
    "def evaluate_fold(train_dataloader, test_dataloader, num_epochs, model, loss_fn, optimizer):\n",
    "    train_loss_, train_acc_, test_loss_, test_acc_ = [], [], [], []\n",
    "\n",
    "    for epoch in tqdm.tqdm(range(num_epochs)):\n",
    "\n",
    "        start = time.time()\n",
    "\n",
    "        train_loss, train_acc = train_loop(train_dataloader, model, loss_fn, optimizer)\n",
    "\n",
    "        end = time.time()\n",
    "\n",
    "        test_loss, test_acc = test_loop(test_dataloader, model, loss_fn)\n",
    "        train_loss_.append(train_loss), train_acc_.append(train_acc)\n",
    "        test_loss_.append(test_loss), test_acc_.append(test_acc)\n",
    "\n",
    "    last_epoch_time = end-start\n",
    "\n",
    "    return train_loss_, train_acc_, test_loss_, test_acc_, last_epoch_time\n",
    "\n",
    "def find_optimal_hyperparameter(X_train_scaled_dict, X_val_scaled_dict, y_train_dict, y_val_dict, batch_sizes):\n",
    "\n",
    "    cross_validation_accuracies = {}\n",
    "    cross_validation_val_accuracies, cross_validation_train_accuracies, cross_validation_times = defaultdict(list), defaultdict(list), defaultdict(list)\n",
    "\n",
    "    for batch_size in batch_sizes:\n",
    "        cur_batch_X_train_folds = X_train_scaled_dict[batch_size]\n",
    "        cur_batch_y_train_folds = y_train_dict[batch_size]\n",
    "        cur_batch_X_val_folds = X_val_scaled_dict[batch_size]\n",
    "        cur_batch_y_val_folds = y_val_dict[batch_size]\n",
    "\n",
    "        folds = zip(cur_batch_X_train_folds, cur_batch_y_train_folds, cur_batch_X_val_folds, cur_batch_y_val_folds)\n",
    "\n",
    "        for X_train, y_train, X_val, y_val in folds:\n",
    "\n",
    "            ## Refresh the model for each fold\n",
    "            num_epochs = 20\n",
    "            lr = 0.001\n",
    "            no_features = 77\n",
    "            no_hidden = 3\n",
    "            no_labels = 1\n",
    "            model = MLP(no_features, no_hidden, no_labels)\n",
    "            optimizer = torch.optim.Adam(model.parameters(), lr = lr)\n",
    "            loss_fn = nn.BCELoss()\n",
    "\n",
    "            eval_params = {\n",
    "                'num_epochs': num_epochs,\n",
    "                'model': model,\n",
    "                'loss_fn': loss_fn,\n",
    "                'optimizer': optimizer,\n",
    "            }\n",
    "\n",
    "\n",
    "            train_dataloader, val_dataloader = intialise_loaders(X_train, y_train, X_val, y_val, batch_size = batch_size)\n",
    "            train_loss_, train_acc_, val_loss_, val_acc_, last_epoch_time = evaluate_fold(train_dataloader, val_dataloader, **eval_params)\n",
    "\n",
    "            cross_validation_train_accuracies[batch_size].append(train_acc_)\n",
    "            cross_validation_val_accuracies[batch_size].append(val_acc_)\n",
    "            cross_validation_times[batch_size].append(last_epoch_time)\n",
    "\n",
    "    cross_validation_accuracies['train'] = cross_validation_train_accuracies\n",
    "    cross_validation_accuracies['val'] = cross_validation_val_accuracies\n",
    "    return cross_validation_accuracies, cross_validation_times\n",
    "\n",
    "\n",
    "\n",
    "cross_validation_accuracies, cross_validation_times = find_optimal_hyperparameter(X_train_scaled_dict, X_val_scaled_dict, y_train_dict, y_val_dict, batch_sizes)\n"
   ]
  },
  {
   "cell_type": "code",
   "execution_count": null,
   "id": "64384c9c-ddd5-4460-bf37-b9977443a65c",
   "metadata": {
    "deletable": false,
    "editable": false,
    "id": "64384c9c-ddd5-4460-bf37-b9977443a65c",
    "nbgrader": {
     "cell_type": "code",
     "checksum": "975e552e751c4efb2cec0eac214f85cd",
     "grade": true,
     "grade_id": "correct_hyperparameter_tuning",
     "locked": true,
     "points": 1,
     "schema_version": 3,
     "solution": false,
     "task": false
    },
    "tags": []
   },
   "outputs": [],
   "source": []
  },
  {
   "cell_type": "markdown",
   "id": "b6756ab6-92e0-4a5e-b4b9-aebe009f5480",
   "metadata": {
    "deletable": false,
    "editable": false,
    "id": "b6756ab6-92e0-4a5e-b4b9-aebe009f5480",
    "nbgrader": {
     "cell_type": "markdown",
     "checksum": "69421943e22521de848bb03a50f57767",
     "grade": false,
     "grade_id": "a2_1_5",
     "locked": true,
     "schema_version": 3,
     "solution": false,
     "task": false
    },
    "tags": []
   },
   "source": [
    "5. Plot scatterplot of mean cross validation accuracies for the different batch sizes."
   ]
  },
  {
   "cell_type": "code",
   "execution_count": 47,
   "id": "8fa3afdf-eed6-47b9-9acc-bc2304c46ec3",
   "metadata": {
    "deletable": false,
    "id": "8fa3afdf-eed6-47b9-9acc-bc2304c46ec3",
    "nbgrader": {
     "cell_type": "code",
     "checksum": "17599eb29fd6e3a1e2812f0ff7cba983",
     "grade": true,
     "grade_id": "plot",
     "locked": false,
     "points": 1,
     "schema_version": 3,
     "solution": true,
     "task": false
    },
    "tags": []
   },
   "outputs": [
    {
     "data": {
      "text/plain": [
       "<matplotlib.legend.Legend at 0x2495b93e250>"
      ]
     },
     "execution_count": 47,
     "metadata": {},
     "output_type": "execute_result"
    },
    {
     "data": {
      "image/png": "[encoded data removed]",
      "text/plain": [
       "<Figure size 640x480 with 1 Axes>"
      ]
     },
     "metadata": {},
     "output_type": "display_data"
    }
   ],
   "source": [
    "# YOUR CODE HERE\n",
    "\n",
    "def process_accuracies(accuracy_dict):\n",
    "    cv_accuracies_df = pd.DataFrame(accuracy_dict).transpose()\n",
    "    cv_accuracies_df.index = cv_accuracies_df.index.set_names([\"batch_size\"])\n",
    "    cv_accuracies_df.columns = [f\"Fold_{i}\" for i in cv_accuracies_df.columns]\n",
    "    cv_accuracies_df = cv_accuracies_df.explode(list(cv_accuracies_df.columns))\n",
    "    cv_accuracies_df['mean_acc'] = cv_accuracies_df.mean(axis=1)\n",
    "    return cv_accuracies_df\n",
    "\n",
    "mean_train_acc = process_accuracies(cross_validation_accuracies['train'])\n",
    "mean_val_acc = process_accuracies(cross_validation_accuracies['val'])\n",
    "mean_train_acc['epoch'] = list(range(1,21))*4\n",
    "mean_val_acc['epoch'] = list(range(1,21))*4\n",
    "\n",
    "final_epoch_train_acc = mean_train_acc.loc[mean_train_acc['epoch']==20][['mean_acc']]\n",
    "final_epoch_val_acc = mean_val_acc.loc[mean_val_acc['epoch']==20][['mean_acc']]\n",
    "\n",
    "plt.scatter(final_epoch_train_acc.index, final_epoch_train_acc.values, label = \"Train Accuracy\")\n",
    "plt.scatter(final_epoch_val_acc.index, final_epoch_val_acc.values, label = \"Val Accuracy\")\n",
    "plt.ylabel(\"Mean Accuracy\")\n",
    "plt.xlabel(\"Batch Size\")\n",
    "plt.legend()"
   ]
  },
  {
   "cell_type": "markdown",
   "id": "baab6e4d-4e8b-4358-a68d-682f60db4a06",
   "metadata": {
    "deletable": false,
    "editable": false,
    "id": "baab6e4d-4e8b-4358-a68d-682f60db4a06",
    "nbgrader": {
     "cell_type": "markdown",
     "checksum": "11e8d298b5774c4044f1c3f950c46214",
     "grade": false,
     "grade_id": "a2_1_6",
     "locked": true,
     "schema_version": 3,
     "solution": false,
     "task": false
    },
    "tags": []
   },
   "source": [
    "6. Create a table of time taken to train the network on the last epoch against different batch sizes. Select the optimal batch size and state a reason for your selection."
   ]
  },
  {
   "cell_type": "code",
   "execution_count": 48,
   "id": "081aa567-cd92-4749-93fd-fc6608a1f6ae",
   "metadata": {
    "deletable": false,
    "id": "081aa567-cd92-4749-93fd-fc6608a1f6ae",
    "nbgrader": {
     "cell_type": "code",
     "checksum": "c18e30a9850c282ad725336848222a62",
     "grade": false,
     "grade_id": "times",
     "locked": false,
     "schema_version": 3,
     "solution": true,
     "task": false
    },
    "tags": []
   },
   "outputs": [
    {
     "data": {
      "text/html": [
       "<div>\n",
       "<style scoped>\n",
       "    .dataframe tbody tr th:only-of-type {\n",
       "        vertical-align: middle;\n",
       "    }\n",
       "\n",
       "    .dataframe tbody tr th {\n",
       "        vertical-align: top;\n",
       "    }\n",
       "\n",
       "    .dataframe thead th {\n",
       "        text-align: right;\n",
       "    }\n",
       "</style>\n",
       "<table border=\"1\" class=\"dataframe\">\n",
       "  <thead>\n",
       "    <tr style=\"text-align: right;\">\n",
       "      <th></th>\n",
       "      <th>Fold_0</th>\n",
       "      <th>Fold_1</th>\n",
       "      <th>Fold_2</th>\n",
       "      <th>Fold_3</th>\n",
       "      <th>Fold_4</th>\n",
       "      <th>mean_time</th>\n",
       "    </tr>\n",
       "    <tr>\n",
       "      <th>batch_size</th>\n",
       "      <th></th>\n",
       "      <th></th>\n",
       "      <th></th>\n",
       "      <th></th>\n",
       "      <th></th>\n",
       "      <th></th>\n",
       "    </tr>\n",
       "  </thead>\n",
       "  <tbody>\n",
       "    <tr>\n",
       "      <th>128</th>\n",
       "      <td>0.222024</td>\n",
       "      <td>0.223181</td>\n",
       "      <td>0.221285</td>\n",
       "      <td>0.267319</td>\n",
       "      <td>0.202613</td>\n",
       "      <td>0.227284</td>\n",
       "    </tr>\n",
       "    <tr>\n",
       "      <th>256</th>\n",
       "      <td>0.158495</td>\n",
       "      <td>0.280703</td>\n",
       "      <td>0.153059</td>\n",
       "      <td>0.180104</td>\n",
       "      <td>0.172450</td>\n",
       "      <td>0.188962</td>\n",
       "    </tr>\n",
       "    <tr>\n",
       "      <th>512</th>\n",
       "      <td>0.126865</td>\n",
       "      <td>0.136337</td>\n",
       "      <td>0.117966</td>\n",
       "      <td>0.128126</td>\n",
       "      <td>0.162478</td>\n",
       "      <td>0.134354</td>\n",
       "    </tr>\n",
       "    <tr>\n",
       "      <th>1024</th>\n",
       "      <td>0.097492</td>\n",
       "      <td>0.104920</td>\n",
       "      <td>0.112122</td>\n",
       "      <td>0.097099</td>\n",
       "      <td>0.104533</td>\n",
       "      <td>0.103233</td>\n",
       "    </tr>\n",
       "  </tbody>\n",
       "</table>\n",
       "</div>"
      ],
      "text/plain": [
       "              Fold_0    Fold_1    Fold_2    Fold_3    Fold_4  mean_time\n",
       "batch_size                                                             \n",
       "128         0.222024  0.223181  0.221285  0.267319  0.202613   0.227284\n",
       "256         0.158495  0.280703  0.153059  0.180104  0.172450   0.188962\n",
       "512         0.126865  0.136337  0.117966  0.128126  0.162478   0.134354\n",
       "1024        0.097492  0.104920  0.112122  0.097099  0.104533   0.103233"
      ]
     },
     "execution_count": 48,
     "metadata": {},
     "output_type": "execute_result"
    }
   ],
   "source": [
    "# df = pd.DataFrame({'Batch Size': [],\n",
    "#                    'Last Epoch Time': [],\n",
    "#                   })\n",
    "\n",
    "# df\n",
    "\n",
    "\n",
    "def process_times(time_dict):\n",
    "    cv_times_df = pd.DataFrame(time_dict).transpose()\n",
    "    cv_times_df.index = cv_times_df.index.set_names([\"batch_size\"])\n",
    "    cv_times_df.columns = [f\"Fold_{i}\" for i in cv_times_df.columns]\n",
    "    cv_times_df = cv_times_df.explode(list(cv_times_df.columns))\n",
    "    cv_times_df['mean_time'] = cv_times_df.mean(axis=1)\n",
    "    return cv_times_df\n",
    "\n",
    "mean_train_times = process_times(cross_validation_times)\n",
    "mean_train_times"
   ]
  },
  {
   "cell_type": "code",
   "execution_count": null,
   "id": "1c83d786-706b-46d2-9220-3b09e4c473b3",
   "metadata": {
    "deletable": false,
    "editable": false,
    "id": "1c83d786-706b-46d2-9220-3b09e4c473b3",
    "nbgrader": {
     "cell_type": "code",
     "checksum": "a2fc4a52c2a0af7ea586ea85cec9b3e9",
     "grade": true,
     "grade_id": "correct_times",
     "locked": true,
     "points": 1,
     "schema_version": 3,
     "solution": false,
     "task": false
    },
    "tags": []
   },
   "outputs": [],
   "source": []
  },
  {
   "cell_type": "code",
   "execution_count": 49,
   "id": "d46dfd1c-1d3c-46e4-98d6-21c2672ad31b",
   "metadata": {
    "deletable": false,
    "id": "d46dfd1c-1d3c-46e4-98d6-21c2672ad31b",
    "nbgrader": {
     "cell_type": "code",
     "checksum": "38690f32ec506325fc73c8353b77d041",
     "grade": false,
     "grade_id": "batch_size",
     "locked": false,
     "schema_version": 3,
     "solution": true,
     "task": false
    },
    "tags": []
   },
   "outputs": [
    {
     "data": {
      "image/png": "[encoded data removed]",
      "text/plain": [
       "<Figure size 640x480 with 1 Axes>"
      ]
     },
     "metadata": {},
     "output_type": "display_data"
    }
   ],
   "source": [
    "# YOUR CODE HERE\n",
    "import seaborn as sns\n",
    "## Logic - maximize validation accuracy while minimizing training time\n",
    "\n",
    "acc_and_times_df = pd.merge(mean_train_times[['mean_time']], final_epoch_val_acc, on = 'batch_size')\n",
    "\n",
    "sns.lineplot(x = acc_and_times_df['mean_time'], y = acc_and_times_df['mean_acc'].to_list(), label = \"Trend\")\n",
    "for size, cmap in zip(batch_sizes, ['darkred', 'orange', 'darkgreen', 'purple']):\n",
    "    x_pos = acc_and_times_df['mean_time'].loc[size]\n",
    "    plt.axvline(x_pos, color = cmap, linestyle=\"--\", label = size)\n",
    "plt.ylabel(\"Mean Accuracy\")\n",
    "plt.xlabel(\"Mean Time Taken\")\n",
    "plt.legend()\n",
    "plt.show()\n",
    "\n",
    "optimal_batch_size = 128\n",
    "reason = \"\"\"\n",
    "From the plot, we can see that in general, as the batch size increases, both the accuracy and the time taken for training decreases.\n",
    "To select an optimal batch size would depend on the user's requirements.\n",
    "For example, if the user has limited computational resources and values faster training time over accuracy, they may prefer a larger batch size such as 1024 (in purple)\n",
    "On the other hand, if the user prefers performance and has resources to spare, they may favour a smaller batch size such as 128 (in red)\n",
    "As the dataset is not too extensive and computational resources are not an issue at this point, I would favour a model with better performance.\n",
    "Thus, I would choose a smaller batch size of 128\n",
    "\n",
    "Other ways of selecting the batch size would be to weigh the accuracy against time taken such as using ratios, which is more balanced\n",
    "Another way could be to inspect plots like the one below, and choosing the batch size where the gradient of the curve starts to flatten out\n",
    "That would indicate that the marginal increase in accuracy no longer justifies the increase in time taken.\n",
    "\"\"\""
   ]
  },
  {
   "cell_type": "code",
   "execution_count": null,
   "id": "096ff7b5-6a77-47d4-941e-37bc495b6558",
   "metadata": {
    "deletable": false,
    "editable": false,
    "id": "096ff7b5-6a77-47d4-941e-37bc495b6558",
    "nbgrader": {
     "cell_type": "code",
     "checksum": "f695b961ed43ec6a31b7647e078fd8d6",
     "grade": true,
     "grade_id": "correct_batch_size",
     "locked": true,
     "points": 1,
     "schema_version": 3,
     "solution": false,
     "task": false
    },
    "tags": []
   },
   "outputs": [],
   "source": []
  }
 ],
 "metadata": {
  "colab": {
   "provenance": []
  },
  "kernelspec": {
   "display_name": "Python 3 (ipykernel)",
   "language": "python",
   "name": "python3"
  },
  "language_info": {
   "codemirror_mode": {
    "name": "ipython",
    "version": 3
   },
   "file_extension": ".py",
   "mimetype": "text/x-python",
   "name": "python",
   "nbconvert_exporter": "python",
   "pygments_lexer": "ipython3",
   "version": "3.11.5"
  }
 },
 "nbformat": 4,
 "nbformat_minor": 5
}
